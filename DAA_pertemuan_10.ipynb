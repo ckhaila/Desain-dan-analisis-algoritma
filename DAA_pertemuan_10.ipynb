{
  "nbformat": 4,
  "nbformat_minor": 0,
  "metadata": {
    "colab": {
      "provenance": [],
      "authorship_tag": "ABX9TyNxgCoRp2xMW0x2YRBV6SjB",
      "include_colab_link": true
    },
    "kernelspec": {
      "name": "python3",
      "display_name": "Python 3"
    },
    "language_info": {
      "name": "python"
    }
  },
  "cells": [
    {
      "cell_type": "markdown",
      "metadata": {
        "id": "view-in-github",
        "colab_type": "text"
      },
      "source": [
        "<a href=\"https://colab.research.google.com/github/ckhaila/Desain-dan-analisis-algoritma/blob/main/DAA_pertemuan_10.ipynb\" target=\"_parent\"><img src=\"https://colab.research.google.com/assets/colab-badge.svg\" alt=\"Open In Colab\"/></a>"
      ]
    },
    {
      "cell_type": "code",
      "source": [
        "pip install pulp"
      ],
      "metadata": {
        "colab": {
          "base_uri": "https://localhost:8080/"
        },
        "id": "KiQ2q_LIUx2q",
        "outputId": "59cdbbc8-2fb6-44ed-d1b5-fabbd6b6583e"
      },
      "execution_count": 10,
      "outputs": [
        {
          "output_type": "stream",
          "name": "stdout",
          "text": [
            "Collecting pulp\n",
            "  Downloading PuLP-2.7.0-py3-none-any.whl (14.3 MB)\n",
            "\u001b[2K     \u001b[90m━━━━━━━━━━━━━━━━━━━━━━━━━━━━━━━━━━━━━━━━\u001b[0m \u001b[32m14.3/14.3 MB\u001b[0m \u001b[31m44.4 MB/s\u001b[0m eta \u001b[36m0:00:00\u001b[0m\n",
            "\u001b[?25hInstalling collected packages: pulp\n",
            "Successfully installed pulp-2.7.0\n"
          ]
        }
      ]
    },
    {
      "cell_type": "code",
      "execution_count": 11,
      "metadata": {
        "id": "0ahUPk1eS5gX"
      },
      "outputs": [],
      "source": [
        "import pulp"
      ]
    },
    {
      "cell_type": "code",
      "source": [
        "# Instantiate our problem class\n",
        "\n",
        "model = pulp.LpProblem(\"ProfitMaximisingProblem\", pulp.LpMaximize)"
      ],
      "metadata": {
        "id": "YMibo0YTVbXJ"
      },
      "execution_count": 18,
      "outputs": []
    },
    {
      "cell_type": "code",
      "source": [
        "A = pulp.LpVariable('A', lowBound=0, cat='Integer')\n",
        "B = pulp.LpVariable('B', lowBound=0, cat='Integer')"
      ],
      "metadata": {
        "id": "HQ7n8u2ZY8WA"
      },
      "execution_count": 20,
      "outputs": []
    },
    {
      "cell_type": "code",
      "source": [
        "# Objective function\n",
        "model += 5000 * A + 2500 * B, \"profit\"\n",
        "# Constraints\n",
        "model += 3 * A + 2 * B <= 20\n",
        "model += 4 * A + 3 * B <= 30\n",
        "model += 4 * A + 3 * B <= 44"
      ],
      "metadata": {
        "id": "1utAL9cHaDI6"
      },
      "execution_count": 21,
      "outputs": []
    },
    {
      "cell_type": "code",
      "source": [
        "# Solve our problem\n",
        "model.solve()\n",
        "pulp.LpStatus[model.status]"
      ],
      "metadata": {
        "colab": {
          "base_uri": "https://localhost:8080/",
          "height": 35
        },
        "id": "JKN7OS50awf6",
        "outputId": "5f7b4154-3642-4068-8627-9ed03368749f"
      },
      "execution_count": 22,
      "outputs": [
        {
          "output_type": "execute_result",
          "data": {
            "text/plain": [
              "'Optimal'"
            ],
            "application/vnd.google.colaboratory.intrinsic+json": {
              "type": "string"
            }
          },
          "metadata": {},
          "execution_count": 22
        }
      ]
    },
    {
      "cell_type": "code",
      "source": [
        "# Print our decision variable values\n",
        "print (A.varValue)\n",
        "print (A.varValue)"
      ],
      "metadata": {
        "colab": {
          "base_uri": "https://localhost:8080/"
        },
        "id": "Jrk83u5Ga-YS",
        "outputId": "f15abdc3-6d78-4e60-ccb8-c79719b025b9"
      },
      "execution_count": 23,
      "outputs": [
        {
          "output_type": "stream",
          "name": "stdout",
          "text": [
            "6.0\n",
            "6.0\n"
          ]
        }
      ]
    },
    {
      "cell_type": "code",
      "source": [
        "# Print our objective function value\n",
        "print (pulp.value(model.objective))"
      ],
      "metadata": {
        "colab": {
          "base_uri": "https://localhost:8080/"
        },
        "id": "bekKBLYmbQii",
        "outputId": "22792327-e58a-4dcf-9252-1bd8925c3c93"
      },
      "execution_count": 24,
      "outputs": [
        {
          "output_type": "stream",
          "name": "stdout",
          "text": [
            "32500.0\n"
          ]
        }
      ]
    },
    {
      "cell_type": "code",
      "source": [
        "# 4x + 3y = 34\n",
        "import pulp\n",
        "\n",
        "# Membuat objek masalah optimasi\n",
        "mod1 = pulp.LpProblem(name=\"Pemecahan_Persamaan\", sense=pulp.LpMinimize)\n",
        "\n",
        "# Membuat variable x dan y\n",
        "x = pulp.LpVariable(name=\"x\")\n",
        "y = pulp.LpVariable(name=\"y\")\n",
        "\n",
        "# Menambah batasan\n",
        "model += 4 * x + 3 * y == 34\n",
        "\n",
        "# Menyelesaikan masalah\n",
        "model.solve()\n",
        "\n",
        "# Menampilkan hasil\n",
        "print(\"Status:\", model.status)\n",
        "print(\"Nilai x =\", x.varValue)\n",
        "print(\"Nilai y =\", y.varValue)"
      ],
      "metadata": {
        "colab": {
          "base_uri": "https://localhost:8080/"
        },
        "id": "LYD1yOJSbeIi",
        "outputId": "1c4211de-da38-4766-e132-e3a1da605963"
      },
      "execution_count": 32,
      "outputs": [
        {
          "output_type": "stream",
          "name": "stdout",
          "text": [
            "Status: 1\n",
            "Nilai x = 8.5\n",
            "Nilai y = 0.0\n"
          ]
        }
      ]
    },
    {
      "cell_type": "code",
      "source": [
        "# 5x + y = 37\n",
        "import pulp\n",
        "\n",
        "# Membuat objek masalah optimasi\n",
        "mod2 = pulp.LpProblem(name=\"Pemecahan_Persamaan\", sense=pulp.LpMinimize)\n",
        "\n",
        "# Membuat variable x dan y\n",
        "x = pulp.LpVariable(name=\"x\")\n",
        "y = pulp.LpVariable(name=\"y\")\n",
        "\n",
        "# Menambah batasan\n",
        "model += 5 * x + 1 * y == 37\n",
        "\n",
        "# Menyelesaikan masalah\n",
        "model.solve()\n",
        "\n",
        "# Menampilkan hasil\n",
        "print(\"Status:\", model.status)\n",
        "print(\"Nilai x =\", x.varValue)\n",
        "print(\"Nilai y =\", y.varValue)"
      ],
      "metadata": {
        "colab": {
          "base_uri": "https://localhost:8080/"
        },
        "id": "xjOOlD4teUt5",
        "outputId": "995dad91-0d78-49dd-f8f6-59e3561fd058"
      },
      "execution_count": 34,
      "outputs": [
        {
          "output_type": "stream",
          "name": "stdout",
          "text": [
            "Status: 1\n",
            "Nilai x = 7.4\n",
            "Nilai y = 0.0\n"
          ]
        }
      ]
    },
    {
      "cell_type": "code",
      "source": [
        "# Membuat model linear programming\n",
        "problem = pulp.LpProblem(\"Budi's Purchase Problem\", pulp.LpMinimize)\n",
        "\n",
        "# Variable\n",
        "P = pulp.LpVariable(\"P\", lowBound=0, cat=\"Integer\")  # Jumlah pensils\n",
        "B = pulp.LpVariable(\"B\", lowBound=0, cat=\"Integer\")  # Jumlah books\n",
        "\n",
        "# fungsi tujuan\n",
        "problem += 2*P + 3*B, \"Total Cost\"\n",
        "\n",
        "# Penyeselesaian masalah\n",
        "problem += 3*P + 4*B == 11000, \"Constraint1\"\n",
        "problem += 1*P + 7*B == 15000, \"Constraint2\"\n",
        "\n",
        "# Menyelesaikan masalah programming linear\n",
        "problem.solve()\n",
        "\n",
        "# Solusi optimal\n",
        "optimal_P = P.value()\n",
        "optimal_B = B.value()\n",
        "\n",
        "# Menghitung total biaya membeli 2 pensil dan 6 buku\n",
        "cost = 2 * optimal_P + 6 * optimal_B\n",
        "\n",
        "# Menampilkan hasil\n",
        "print(f\"Jumlah optimal pensils (P): {optimal_P}\")\n",
        "print(f\"Jumlah optimal books (B): {optimal_B}\")\n",
        "print(f\"Total biaya membeli 2 pensils and 6 books: {cost}\")\n"
      ],
      "metadata": {
        "colab": {
          "base_uri": "https://localhost:8080/"
        },
        "id": "Tq6WQ__8e9M4",
        "outputId": "fada1b1e-dffe-41b4-86d0-d26e7da0a82d"
      },
      "execution_count": 38,
      "outputs": [
        {
          "output_type": "stream",
          "name": "stdout",
          "text": [
            "Jumlah optimal pensils (P): 1000.0\n",
            "Jumlah optimal books (B): 2000.0\n",
            "Total biaya membeli 2 pensils and 6 books: 14000.0\n"
          ]
        }
      ]
    },
    {
      "cell_type": "code",
      "source": [
        "# Membuat model linear programming\n",
        "model = pulp.LpProblem(name=\"PersegiPanjang\", sense=pulp.LpMinimize)\n",
        "\n",
        "# Variabel keputusan\n",
        "panjang = pulp.LpVariable(\"Panjang\", lowBound=0)  # Panjang persegi panjang\n",
        "lebar = pulp.LpVariable(\"Lebar\", lowBound=0)  # Lebar persegi panjang\n",
        "\n",
        "# Fungsi tujuan (minimalkan panjang + 2*lebar)\n",
        "model += panjang + 2 * lebar, \"Keliling\"\n",
        "\n",
        "# Persamaan kendala (keliling = 44 cm, lebar = panjang - 6)\n",
        "model += 2 * (panjang + lebar) == 44, \"KelilingConstraint\"\n",
        "model += lebar == panjang - 6, \"LebarConstraint\"\n",
        "\n",
        "# Menyelesaikan masalah linear programming\n",
        "model.solve()\n",
        "\n",
        "# Mendapatkan solusi optimal\n",
        "optimal_panjang = panjang.value()\n",
        "optimal_lebar = lebar.value()\n",
        "\n",
        "# Menampilkan hasil\n",
        "print(f\"Panjang optimal: {optimal_panjang} cm\")\n",
        "print(f\"Lebar optimal: {optimal_lebar} cm\")\n"
      ],
      "metadata": {
        "colab": {
          "base_uri": "https://localhost:8080/"
        },
        "id": "2s0r_LMim-xm",
        "outputId": "74071c1a-940b-41f8-f3c3-895aca6fc9ac"
      },
      "execution_count": 39,
      "outputs": [
        {
          "output_type": "stream",
          "name": "stdout",
          "text": [
            "Panjang optimal: 14.0 cm\n",
            "Lebar optimal: 8.0 cm\n"
          ]
        }
      ]
    },
    {
      "cell_type": "code",
      "source": [
        "# Import required Libraries\n",
        "import numpy as np\n",
        "from scipy.optimize import linprog\n",
        "\n",
        "# Set the inequality constraints matrix\n",
        "# Note: the inequality constraints must be in the from of <=\n",
        "A = np.array([[1,0], [2,3], [1,1], [-1, 0], [0,-1]])\n",
        "\n",
        "# Set the inequality constraints vector\n",
        "b = np.array([16, 19, 8, 0, 0])\n",
        "\n",
        "# Set the coefficients of the linear objective function vector\n",
        "# Note: when maximizing, change the signs of the c vector coefficient\n",
        "c = np.array([-5, -7])\n",
        "\n",
        "# Solve Linear programming problem\n",
        "res = linprog(c, A_ub=A, b_ub=b)\n",
        "\n",
        "# Print results\n",
        "print('Optimal value:', round(res.fun*-1, ndigits=2),\n",
        "      '\\nx values:', res.x,\n",
        "      '\\nNumber of iteration performed:', res.nit,\n",
        "      '\\nStatus:', res.message)"
      ],
      "metadata": {
        "colab": {
          "base_uri": "https://localhost:8080/"
        },
        "id": "JmWRwKb3oiDq",
        "outputId": "53edf9d0-d62f-4aac-dd8c-4a3f8aaa5e8e"
      },
      "execution_count": 48,
      "outputs": [
        {
          "output_type": "stream",
          "name": "stdout",
          "text": [
            "Optimal value: 46.0 \n",
            "x values: [5. 3.] \n",
            "Number of iteration performed: 3 \n",
            "Status: Optimization terminated successfully. (HiGHS Status 7: Optimal)\n"
          ]
        }
      ]
    },
    {
      "cell_type": "code",
      "source": [
        "# Koefisien fungsi tujuan (minimalkan 0x + 0y)\n",
        "c = [0, 0]\n",
        "\n",
        "# Koefisien matriks kendala\n",
        "A = [\n",
        "    [4, 12]\n",
        "]\n",
        "\n",
        "# B-vector (nilai sebelah kanan pada persamaan matriks kendala)\n",
        "b = [28]\n",
        "\n",
        "# Menentukan batas bawah dan batas atas variabel x dan y (None berarti tak terbatas)\n",
        "x_bounds = (None, None)\n",
        "y_bounds = (None, None)\n",
        "\n",
        "# Menyelesaikan masalah linear programming\n",
        "result = linprog(c, A_eq=A, b_eq=b, bounds=[x_bounds, y_bounds], method='highs')\n",
        "\n",
        "# Menampilkan hasil\n",
        "print(\"Status Solusi:\", result.message)\n",
        "print(\"Nilai optimal x:\", result.x[0])\n",
        "print(\"Nilai optimal y:\", result.x[1])\n"
      ],
      "metadata": {
        "colab": {
          "base_uri": "https://localhost:8080/"
        },
        "id": "luaHxgUCx9Qc",
        "outputId": "0e380251-d031-47d9-c86c-ee79b666f53b"
      },
      "execution_count": 58,
      "outputs": [
        {
          "output_type": "stream",
          "name": "stdout",
          "text": [
            "Status Solusi: Optimization terminated successfully. (HiGHS Status 7: Optimal)\n",
            "Nilai optimal x: 0.0\n",
            "Nilai optimal y: 2.3333333333333335\n"
          ]
        }
      ]
    },
    {
      "cell_type": "code",
      "source": [
        "# Koefisien fungsi tujuan (minimalkan 0x + 0y)\n",
        "c = [0, 0]\n",
        "\n",
        "# Koefisien matriks kendala\n",
        "A = [\n",
        "    [2, 1]\n",
        "]\n",
        "\n",
        "# B-vector (nilai sebelah kanan pada persamaan matriks kendala)\n",
        "b = [21]\n",
        "\n",
        "# Menentukan batas bawah dan batas atas variabel x dan y (None berarti tak terbatas)\n",
        "x_bounds = (None, None)\n",
        "y_bounds = (None, None)\n",
        "\n",
        "# Menyelesaikan masalah linear programming\n",
        "result = linprog(c, A_eq=A, b_eq=b, bounds=[x_bounds, y_bounds], method='highs')\n",
        "\n",
        "# Menampilkan hasil\n",
        "print(\"Status Solusi:\", result.message)\n",
        "print(\"Nilai optimal x:\", result.x[0])\n",
        "print(\"Nilai optimal y:\", result.x[1])\n"
      ],
      "metadata": {
        "colab": {
          "base_uri": "https://localhost:8080/"
        },
        "id": "dIJxEdfYykep",
        "outputId": "2c462010-28f6-45c5-ed46-e7b1eaf4814d"
      },
      "execution_count": 59,
      "outputs": [
        {
          "output_type": "stream",
          "name": "stdout",
          "text": [
            "Status Solusi: Optimization terminated successfully. (HiGHS Status 7: Optimal)\n",
            "Nilai optimal x: 0.0\n",
            "Nilai optimal y: 21.0\n"
          ]
        }
      ]
    },
    {
      "cell_type": "code",
      "source": [
        "# Koefisien fungsi tujuan (minimalkan 0x)\n",
        "c = [0, 0]\n",
        "\n",
        "# Koefisien matriks kendala\n",
        "A = [\n",
        "    [1, 1],\n",
        "    [3, 4]\n",
        "]\n",
        "\n",
        "# B-vector (nilai sebelah kanan pada persamaan matriks kendala)\n",
        "b = [16, 55]\n",
        "\n",
        "# Menentukan batas bawah dan batas atas variabel x dan y (None berarti tak terbatas)\n",
        "x_bounds = (0, None)\n",
        "y_bounds = (0, None)\n",
        "\n",
        "# Menyelesaikan masalah linear programming\n",
        "result = linprog(c, A_eq=A, b_eq=b, bounds=[x_bounds, y_bounds], method='highs')\n",
        "\n",
        "# Menampilkan hasil\n",
        "print(\"Status Solusi:\", result.message)\n",
        "print(\"Jam kerja Lisa (x):\", result.x[0], \"jam\")\n",
        "print(\"Jam kerja Muri (y):\", result.x[1], \"jam\")"
      ],
      "metadata": {
        "colab": {
          "base_uri": "https://localhost:8080/"
        },
        "id": "ijUT-Vx7x0--",
        "outputId": "5dc96288-4350-4e07-fb86-4dec7fdd9651"
      },
      "execution_count": 57,
      "outputs": [
        {
          "output_type": "stream",
          "name": "stdout",
          "text": [
            "Status Solusi: Optimization terminated successfully. (HiGHS Status 7: Optimal)\n",
            "Jam kerja Lisa (x): 9.0 jam\n",
            "Jam kerja Muri (y): 7.0 jam\n"
          ]
        }
      ]
    }
  ]
}