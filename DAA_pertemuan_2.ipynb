def cari_kpk(angka1, angka2):
    faktor1 = faktor2 = 2
    kpk = 1
    
    while angka1 > 1 or angka2 > 1:
        while angka1 % faktor1 == 0 or angka2 % faktor2 == 0:
            if angka1 % faktor1 == 0:
                angka1 = angka1 / faktor1
            if angka2 % faktor2 == 0:
                angka2 = angka2 / faktor2
            kpk = kpk * faktor1
        faktor1 = faktor1 + 1
        faktor2 = faktor2 + 1
    
    return kpk

angka1 = 3
angka2 = 4
hasil_kpk = cari_kpk(angka1, angka2)
print("KPK dari", angka1, "dan", angka2, "adalah", hasil_kpk)


# Inisialisasi kondisi awal
piring1 = "manggis"
piring2 = "pisang"
piring3 = None

# Pindahkan manggis dari piring 1 ke piring 3
piring3 = piring1
piring1 = None

# Pindahkan pisang dari piring 2 ke piring 1
piring1 = piring2
piring2 = None

# Pindahkan manggis dari piring 3 ke piring 2
piring2 = piring3
piring3 = None

# Hasil akhir
print("Piring 1:", piring1)
print("Piring 2:", piring2)
print("Piring 3:", piring3)


panjang = 5
tinggi = 3
luas = panjang * tinggi

print("Luas jajar genjang adalah:", luas)


import math

jari_jari = 3
tinggi = 5
volume = math.pi * (jari_jari ** 2) * tinggi

print("Volume tabung adalah:", volume)


import math

diameter = 5
jari_jari = diameter / 2
tinggi = 4
volume = (1/3) * math.pi * (jari_jari ** 2) * tinggi

print("Volume kerucut adalah:", volume)