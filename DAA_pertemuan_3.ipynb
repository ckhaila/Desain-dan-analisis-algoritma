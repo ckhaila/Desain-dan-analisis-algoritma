{
  "cells": [
    {
      "cell_type": "markdown",
      "metadata": {
        "id": "view-in-github",
        "colab_type": "text"
      },
      "source": [
        "<a href=\"https://colab.research.google.com/github/ckhaila/Desain-dan-analisis-algoritma/blob/main/DAA_pertemuan_3.ipynb\" target=\"_parent\"><img src=\"https://colab.research.google.com/assets/colab-badge.svg\" alt=\"Open In Colab\"/></a>"
      ]
    },
    {
      "cell_type": "code",
      "source": [
        "aList = [\"John\", 33,\"Toronto, True\"]\n",
        "print(aList)"
      ],
      "metadata": {
        "id": "Dz3kH4Tm2Fs6",
        "outputId": "15d457bb-66bb-4dfb-d009-9f76df8fc13e",
        "colab": {
          "base_uri": "https://localhost:8080/"
        }
      },
      "execution_count": null,
      "outputs": [
        {
          "output_type": "stream",
          "name": "stdout",
          "text": [
            "['John', 33, 'Toronto, True']\n"
          ]
        }
      ]
    },
    {
      "cell_type": "code",
      "source": [
        "import datetime\n",
        "x =datetime.date.today()\n",
        "Mahasiswa = [\"khaila\", 2022071055, \"informatika\", \"desain dan analisis algoritma\", x, \"upj\"]\n",
        "print(Mahasiswa)"
      ],
      "metadata": {
        "id": "4RDK-YbV296a",
        "outputId": "b38936f3-112a-462f-f036-7796bf59e958",
        "colab": {
          "base_uri": "https://localhost:8080/"
        }
      },
      "execution_count": null,
      "outputs": [
        {
          "output_type": "stream",
          "name": "stdout",
          "text": [
            "['khaila', 2022071055, 'informatika', 'desain dan analisis algoritma', datetime.date(2023, 9, 11), 'upj']\n"
          ]
        }
      ]
    },
    {
      "cell_type": "code",
      "source": [
        "bin_colors=['Red','Green','Blue','Yellow']\n",
        "bin_colors[1]"
      ],
      "metadata": {
        "id": "d0qedFtL7tcD",
        "outputId": "398e60f6-6bb6-4b6a-9f22-a446644a4ed9",
        "colab": {
          "base_uri": "https://localhost:8080/",
          "height": 35
        }
      },
      "execution_count": null,
      "outputs": [
        {
          "output_type": "execute_result",
          "data": {
            "text/plain": [
              "'Green'"
            ],
            "application/vnd.google.colaboratory.intrinsic+json": {
              "type": "string"
            }
          },
          "metadata": {},
          "execution_count": 15
        }
      ]
    },
    {
      "cell_type": "code",
      "source": [
        "bin_colors=[\"khaila\", 2022071055, \"informatika\", \"desain dan analisis algoritma\", x, \"upj\"]\n",
        "bin_colors[1]"
      ],
      "metadata": {
        "id": "xw5-2pRb9riT",
        "outputId": "a473b5a1-0dfb-4070-f9e2-170be25a360b",
        "colab": {
          "base_uri": "https://localhost:8080/"
        }
      },
      "execution_count": null,
      "outputs": [
        {
          "output_type": "execute_result",
          "data": {
            "text/plain": [
              "2022071055"
            ]
          },
          "metadata": {},
          "execution_count": 16
        }
      ]
    },
    {
      "cell_type": "code",
      "source": [
        "bin_colors=[\"khaila\", 2022071055, \"informatika\", \"desain dan analisis algoritma\", \"upj\"]\n",
        "bin_colors[3]"
      ],
      "metadata": {
        "id": "5Lw8VrWN-mpC",
        "outputId": "72421722-4bfe-4f7e-a5f2-4495b39fc396",
        "colab": {
          "base_uri": "https://localhost:8080/",
          "height": 35
        }
      },
      "execution_count": null,
      "outputs": [
        {
          "output_type": "execute_result",
          "data": {
            "text/plain": [
              "'desain dan analisis algoritma'"
            ],
            "application/vnd.google.colaboratory.intrinsic+json": {
              "type": "string"
            }
          },
          "metadata": {},
          "execution_count": 27
        }
      ]
    },
    {
      "cell_type": "code",
      "source": [
        "bin_colors=['Red','Green','Blue','Yellow']\n",
        "bin_colors[1:2]"
      ],
      "metadata": {
        "id": "jZQF6_YY_OzL",
        "outputId": "7a9599fd-a36e-487a-b27c-a062e92d072d",
        "colab": {
          "base_uri": "https://localhost:8080/"
        }
      },
      "execution_count": null,
      "outputs": [
        {
          "output_type": "execute_result",
          "data": {
            "text/plain": [
              "['Green']"
            ]
          },
          "metadata": {},
          "execution_count": 24
        }
      ]
    },
    {
      "cell_type": "code",
      "source": [
        "Mahasiswa=[2022071055, 'informatika', 33, 'upj']\n",
        "Mahasiswa[1:2]"
      ],
      "metadata": {
        "id": "xtwHGuyZAX47",
        "outputId": "5918be11-15a5-4da0-9c43-e033a082deb4",
        "colab": {
          "base_uri": "https://localhost:8080/"
        }
      },
      "execution_count": null,
      "outputs": [
        {
          "output_type": "execute_result",
          "data": {
            "text/plain": [
              "['informatika']"
            ]
          },
          "metadata": {},
          "execution_count": 31
        }
      ]
    },
    {
      "cell_type": "code",
      "source": [
        "bin_colors=['Red','Green','Blue','Yellow']\n",
        "for aColor in bin_colors:\n",
        "  print(\"Square \" + aColor)"
      ],
      "metadata": {
        "id": "I01rFiB4AzRd",
        "outputId": "e0de5afd-0d68-4cab-c31d-6a2eadd4dcdc",
        "colab": {
          "base_uri": "https://localhost:8080/"
        }
      },
      "execution_count": null,
      "outputs": [
        {
          "output_type": "stream",
          "name": "stdout",
          "text": [
            "Square Red\n",
            "Square Green\n",
            "Square Blue\n",
            "Square Yellow\n"
          ]
        }
      ]
    },
    {
      "cell_type": "code",
      "source": [
        "Mahasiswa=[\"khaila\", \"informatika\", \"desain dan analisis algoritma\", \"pembangunan jaya\"]\n",
        "for aMahasiswa in Mahasiswa:\n",
        "  print(\"UPJ \" +aMahasiswa)"
      ],
      "metadata": {
        "id": "DdhdaQYnBTOj",
        "outputId": "29647bd9-27fa-420e-f5cb-520122ca5682",
        "colab": {
          "base_uri": "https://localhost:8080/"
        }
      },
      "execution_count": null,
      "outputs": [
        {
          "output_type": "stream",
          "name": "stdout",
          "text": [
            "UPJ khaila\n",
            "UPJ informatika\n",
            "UPJ desain dan analisis algoritma\n",
            "UPJ pembangunan jaya\n"
          ]
        }
      ]
    },
    {
      "cell_type": "code",
      "source": [
        "bin_colors=['Red','Green','Blue','Yellow']\n",
        "bin_colors[1]\n",
        "'green'\n",
        "bin_colors[2:]"
      ],
      "metadata": {
        "id": "8gRSlWeTKMys",
        "outputId": "518bc8b3-6b46-4513-b521-1b78495ce275",
        "colab": {
          "base_uri": "https://localhost:8080/"
        }
      },
      "execution_count": null,
      "outputs": [
        {
          "output_type": "execute_result",
          "data": {
            "text/plain": [
              "['Blue', 'Yellow']"
            ]
          },
          "metadata": {},
          "execution_count": 2
        }
      ]
    },
    {
      "cell_type": "code",
      "source": [
        "UPJ=['Universitas','Pembangunan', 'Jaya']\n",
        "UPJ[2:]"
      ],
      "metadata": {
        "id": "iIeVZ8pzNRQF",
        "outputId": "d43bcdfc-ff84-442d-a378-79fc8ee3b381",
        "colab": {
          "base_uri": "https://localhost:8080/"
        }
      },
      "execution_count": null,
      "outputs": [
        {
          "output_type": "execute_result",
          "data": {
            "text/plain": [
              "['Jaya']"
            ]
          },
          "metadata": {},
          "execution_count": 7
        }
      ]
    },
    {
      "cell_type": "code",
      "source": [
        "hariAwal=(\"senin\",\"selasa\",\"rabu\")\n",
        "hariAkhir=(\"kamis\",\"jumat\",\"sabtu\")\n",
        "\n",
        "hari=(hariAwal, hariAkhir)\n",
        "print(hari)"
      ],
      "metadata": {
        "id": "41z6e63KOW_2",
        "outputId": "83cadec3-5dae-4360-969e-676eb43d2b99",
        "colab": {
          "base_uri": "https://localhost:8080/"
        }
      },
      "execution_count": null,
      "outputs": [
        {
          "output_type": "stream",
          "name": "stdout",
          "text": [
            "(('senin', 'selasa', 'rabu'), ('kamis', 'jumat', 'sabtu'))\n"
          ]
        }
      ]
    },
    {
      "cell_type": "code",
      "source": [
        "pertama= 100\n",
        "kedua= 200, 400, 600\n",
        "ketiga= 300\n",
        "keempat= 400, 800\n",
        "\n",
        "nested_tuple = (pertama, kedua, ketiga, keempat)\n",
        "print(nested_tuple)"
      ],
      "metadata": {
        "id": "R8zroUhoTirf",
        "colab": {
          "base_uri": "https://localhost:8080/"
        },
        "outputId": "62ea3739-49d5-4abf-f688-af1071381f8d"
      },
      "execution_count": 6,
      "outputs": [
        {
          "output_type": "stream",
          "name": "stdout",
          "text": [
            "(100, (200, 400, 600), 300, (400, 800))\n"
          ]
        }
      ]
    },
    {
      "cell_type": "code",
      "source": [
        "bin_colors={\n",
        "\"manual_color\": \"Yellow\",\n",
        "\"approved_color\": \"Green\",\n",
        "\"refused_color\": \"Red\"\n",
        "}\n",
        "print(bin_colors)"
      ],
      "metadata": {
        "colab": {
          "base_uri": "https://localhost:8080/"
        },
        "id": "otdSh2QQaxQA",
        "outputId": "1f6b8fc0-d1cc-4595-852a-fcf6b5f9bd06"
      },
      "execution_count": 2,
      "outputs": [
        {
          "output_type": "stream",
          "name": "stdout",
          "text": [
            "{'manual_color': 'Yellow', 'approved_color': 'Green', 'refused_color': 'Red'}\n"
          ]
        }
      ]
    },
    {
      "cell_type": "code",
      "source": [
        "bin_colors.get('approved_color')\n",
        "bin_colors['approved_color']"
      ],
      "metadata": {
        "colab": {
          "base_uri": "https://localhost:8080/",
          "height": 35
        },
        "id": "0Cu7D6q_btzQ",
        "outputId": "253a6068-a127-40c0-9a4a-942e08303b72"
      },
      "execution_count": 5,
      "outputs": [
        {
          "output_type": "execute_result",
          "data": {
            "text/plain": [
              "'Green'"
            ],
            "application/vnd.google.colaboratory.intrinsic+json": {
              "type": "string"
            }
          },
          "metadata": {},
          "execution_count": 5
        }
      ]
    },
    {
      "cell_type": "code",
      "source": [
        "bin_colors['approved_color']=\"purple\"\n",
        "print(bin_colors)"
      ],
      "metadata": {
        "colab": {
          "base_uri": "https://localhost:8080/"
        },
        "id": "OdxPuI-3cQko",
        "outputId": "9ce036e0-a650-4520-f60b-b52e7b4e80ee"
      },
      "execution_count": 7,
      "outputs": [
        {
          "output_type": "stream",
          "name": "stdout",
          "text": [
            "{'manual_color': 'Yellow', 'approved_color': 'purple', 'refused_color': 'Red'}\n"
          ]
        }
      ]
    },
    {
      "cell_type": "code",
      "source": [
        "green = {'grass','leaves'}\n",
        "print(green)"
      ],
      "metadata": {
        "colab": {
          "base_uri": "https://localhost:8080/"
        },
        "id": "S-t74s4edIZA",
        "outputId": "a59b4fd5-976d-4a37-9ccc-3169155867d4"
      },
      "execution_count": 8,
      "outputs": [
        {
          "output_type": "stream",
          "name": "stdout",
          "text": [
            "{'grass', 'leaves'}\n"
          ]
        }
      ]
    },
    {
      "cell_type": "code",
      "source": [
        "green = {'grass','leaves','leaves'}\n",
        "print(green)"
      ],
      "metadata": {
        "colab": {
          "base_uri": "https://localhost:8080/"
        },
        "id": "FoAxzYPCdZon",
        "outputId": "e43b0d97-b95f-4fa3-86c4-4a3ffd717631"
      },
      "execution_count": 9,
      "outputs": [
        {
          "output_type": "stream",
          "name": "stdout",
          "text": [
            "{'grass', 'leaves'}\n"
          ]
        }
      ]
    },
    {
      "cell_type": "code",
      "source": [
        "#inisiasi set\n",
        "set_01 = {4,5,6,2}\n",
        "print(set_01)"
      ],
      "metadata": {
        "colab": {
          "base_uri": "https://localhost:8080/"
        },
        "id": "dIuLrbSCdg6v",
        "outputId": "97d4295d-3751-4772-ff4e-d49462fbc4be"
      },
      "execution_count": 10,
      "outputs": [
        {
          "output_type": "stream",
          "name": "stdout",
          "text": [
            "{2, 4, 5, 6}\n"
          ]
        }
      ]
    },
    {
      "cell_type": "code",
      "source": [
        "#inisiasi mengubah list menjadi set\n",
        "set_02 = set()\n",
        "set_03 = set([2,1,4,3])\n",
        "print(type(set_02))\n",
        "print(set_03)"
      ],
      "metadata": {
        "colab": {
          "base_uri": "https://localhost:8080/"
        },
        "id": "3mmyxqhRduUv",
        "outputId": "c5a5fd08-7f7e-4139-f055-77b90c9c364b"
      },
      "execution_count": 11,
      "outputs": [
        {
          "output_type": "stream",
          "name": "stdout",
          "text": [
            "<class 'set'>\n",
            "{1, 2, 3, 4}\n"
          ]
        }
      ]
    },
    {
      "cell_type": "code",
      "source": [],
      "metadata": {
        "id": "4GqoB2pQeV-R"
      },
      "execution_count": null,
      "outputs": []
    }
  ],
  "metadata": {
    "colab": {
      "provenance": [],
      "include_colab_link": true
    },
    "kernelspec": {
      "display_name": "Python 3",
      "name": "python3"
    }
  },
  "nbformat": 4,
  "nbformat_minor": 0
}