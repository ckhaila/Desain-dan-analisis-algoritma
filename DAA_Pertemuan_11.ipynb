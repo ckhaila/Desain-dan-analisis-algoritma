{
  "nbformat": 4,
  "nbformat_minor": 0,
  "metadata": {
    "colab": {
      "provenance": [],
      "authorship_tag": "ABX9TyNKWKg3F9ZHvCFILih6ONnn",
      "include_colab_link": true
    },
    "kernelspec": {
      "name": "python3",
      "display_name": "Python 3"
    },
    "language_info": {
      "name": "python"
    }
  },
  "cells": [
    {
      "cell_type": "markdown",
      "metadata": {
        "id": "view-in-github",
        "colab_type": "text"
      },
      "source": [
        "<a href=\"https://colab.research.google.com/github/ckhaila/Desain-dan-analisis-algoritma/blob/main/DAA_Pertemuan_11.ipynb\" target=\"_parent\"><img src=\"https://colab.research.google.com/assets/colab-badge.svg\" alt=\"Open In Colab\"/></a>"
      ]
    },
    {
      "cell_type": "code",
      "execution_count": 1,
      "metadata": {
        "colab": {
          "base_uri": "https://localhost:8080/"
        },
        "id": "iNff6HOFRA44",
        "outputId": "242dfbfb-7f05-4f31-add8-4936ca0c1262"
      },
      "outputs": [
        {
          "output_type": "stream",
          "name": "stdout",
          "text": [
            "{'a': ['b', 'c'], 'b': ['a', 'd'], 'c': ['a', 'd'], 'd': ['e'], 'e': ['d']}\n"
          ]
        }
      ],
      "source": [
        "# Membuat graph dengan element\n",
        "graph = {\"a\" : [\"b\",\"c\"],\n",
        "         \"b\" : [\"a\",\"d\"],\n",
        "         \"c\" : [\"a\",\"d\"],\n",
        "         \"d\" : [\"e\"],\n",
        "         \"e\" : [\"d\"]\n",
        "         }\n",
        "\n",
        "# Print the graph\n",
        "print(graph)"
      ]
    },
    {
      "cell_type": "code",
      "source": [
        "# Latihan graph 1\n",
        "graph = {\n",
        "    'T': ['U', 'W'],\n",
        "    'U': ['V'],\n",
        "    'V': ['x'],\n",
        "    'W': ['x','Z'],\n",
        "    'X': ['s'],\n",
        "    'Z': ['W'],\n",
        "    'S': ['x']\n",
        "}\n",
        "\n",
        "print(graph)"
      ],
      "metadata": {
        "colab": {
          "base_uri": "https://localhost:8080/"
        },
        "id": "zSJCPIHqZlCP",
        "outputId": "3c38cf39-e5f2-4cd0-e5e6-ba0dffb29749"
      },
      "execution_count": 8,
      "outputs": [
        {
          "output_type": "stream",
          "name": "stdout",
          "text": [
            "{'T': ['U', 'W'], 'U': ['V'], 'V': ['x'], 'W': ['x', 'Z'], 'X': ['s'], 'Z': ['W'], 'S': ['x']}\n"
          ]
        }
      ]
    },
    {
      "cell_type": "code",
      "source": [
        "graph = {\n",
        "    'r':['o','m'],\n",
        "    'o':['p','m'],\n",
        "    'm':['n'],\n",
        "    'l':['p'],\n",
        "    'p':['n']\n",
        "}\n",
        "\n",
        "print(graph)"
      ],
      "metadata": {
        "colab": {
          "base_uri": "https://localhost:8080/"
        },
        "id": "Bp1rYDhgawFn",
        "outputId": "7a44e774-82c1-42dd-b05c-de3ae064cadd"
      },
      "execution_count": 10,
      "outputs": [
        {
          "output_type": "stream",
          "name": "stdout",
          "text": [
            "{'r': ['o', 'm'], 'o': ['p', 'm'], 'm': ['n'], 'l': ['p'], 'p': ['n']}\n"
          ]
        }
      ]
    },
    {
      "cell_type": "code",
      "source": [
        "class Graph:\n",
        "    def __init__(self, gdict=None):\n",
        "        if gdict is None:\n",
        "            gdict = {}\n",
        "        self.gdict = gdict\n",
        "\n",
        "    # Get the keys of the dictionary\n",
        "    def getVertices(self):\n",
        "        return list(self.gdict.keys())\n",
        "\n",
        "# Create dictionary with graph elements\n",
        "graph_elements = {\n",
        "    \"a\": [\"b\", \"c\"],\n",
        "    \"b\": [\"a\", \"d\"],\n",
        "    \"c\": [\"a\", \"d\"],\n",
        "    \"d\": [\"e\"],\n",
        "    \"e\": [\"d\"]\n",
        "}\n",
        "\n",
        "# Create an instance of the Graph class and then pass the graph_elements\n",
        "g = Graph(graph_elements)\n",
        "\n",
        "# Print the vertices by calling the getVertices method with parentheses\n",
        "print(g.getVertices())\n"
      ],
      "metadata": {
        "colab": {
          "base_uri": "https://localhost:8080/"
        },
        "id": "MoiMdLC7jbJz",
        "outputId": "5bbb4f1d-93f8-45a1-bbbf-5d1650558b17"
      },
      "execution_count": 12,
      "outputs": [
        {
          "output_type": "stream",
          "name": "stdout",
          "text": [
            "['a', 'b', 'c', 'd', 'e']\n"
          ]
        }
      ]
    },
    {
      "cell_type": "code",
      "source": [
        "class Graph:\n",
        "    def __init__(self, gdict=None):\n",
        "        if gdict is None:\n",
        "            gdict = {}\n",
        "        self.gdict = gdict\n",
        "\n",
        "    # Get the keys of the dictionary\n",
        "    def getVertices(self):\n",
        "        return list(self.gdict.keys())\n",
        "\n",
        "# Create dictionary with graph elements\n",
        "graph_elements = {\n",
        "    'T': ['U', 'W'],\n",
        "    'U': ['V'],\n",
        "    'V': ['x'],\n",
        "    'W': ['x','Z'],\n",
        "    'X': ['s'],\n",
        "    'Z': ['W'],\n",
        "    'S': ['x']\n",
        "}\n",
        "\n",
        "# Create an instance of the Graph class and then pass the graph_elements\n",
        "g = Graph(graph_elements)\n",
        "\n",
        "# Print the vertices by calling the getVertices method with parentheses\n",
        "print(g.getVertices())\n"
      ],
      "metadata": {
        "colab": {
          "base_uri": "https://localhost:8080/"
        },
        "id": "lTvE3GR0jfZk",
        "outputId": "845501bc-51fc-44ac-8921-06d842a30d73"
      },
      "execution_count": 13,
      "outputs": [
        {
          "output_type": "stream",
          "name": "stdout",
          "text": [
            "['T', 'U', 'V', 'W', 'X', 'Z', 'S']\n"
          ]
        }
      ]
    },
    {
      "cell_type": "code",
      "source": [
        "class Graph:\n",
        "    def __init__(self, gdict=None):\n",
        "        if gdict is None:\n",
        "            gdict = {}\n",
        "        self.gdict = gdict\n",
        "\n",
        "    # Get the keys of the dictionary\n",
        "    def getVertices(self):\n",
        "        return list(self.gdict.keys())\n",
        "\n",
        "# Create dictionary with graph elements\n",
        "graph_elements = {\n",
        "    'r':['o','m'],\n",
        "    'o':['p','m'],\n",
        "    'm':['n'],\n",
        "    'l':['p'],\n",
        "    'p':['n'],\n",
        "    'n':['p']\n",
        "}\n",
        "\n",
        "# Create an instance of the Graph class and then pass the graph_elements\n",
        "g = Graph(graph_elements)\n",
        "\n",
        "# Print the vertices by calling the getVertices method with parentheses\n",
        "print(g.getVertices())\n"
      ],
      "metadata": {
        "colab": {
          "base_uri": "https://localhost:8080/"
        },
        "id": "8BzAG76dkTeq",
        "outputId": "253765e4-1892-42c5-b535-14968dc99774"
      },
      "execution_count": 16,
      "outputs": [
        {
          "output_type": "stream",
          "name": "stdout",
          "text": [
            "['r', 'o', 'm', 'l', 'p', 'n']\n"
          ]
        }
      ]
    },
    {
      "cell_type": "code",
      "source": [
        "class graph:\n",
        "  def __init__(self,gdict=None):\n",
        "    if gdict is None:\n",
        "      g.dict = {}\n",
        "    self.gdict = gdict\n",
        "\n",
        "  def edges(self):\n",
        "    return self.findedges()\n",
        "\n",
        "# Find the distintct List of edges\n",
        "  def findedges(self):\n",
        "    edgename = []\n",
        "    for vrtx in self.gdict:\n",
        "      for nxtvrtx in self.gdict:\n",
        "        if {nxtvrtx, vrtx} not in edgename:\n",
        "          edgename.append({nxtvrtx, vrtx})\n",
        "    return edgename\n",
        "\n",
        "# Create the dictionary with graph elements\n",
        "graph_elements = {\n",
        "    \"a\": [\"b\", \"c\"],\n",
        "    \"b\": [\"a\", \"d\"],\n",
        "    \"c\": [\"a\", \"d\"],\n",
        "    \"d\": [\"e\"],\n",
        "    \"e\": [\"d\"]\n",
        "}\n",
        "\n",
        "g = graph(graph_elements)\n",
        "\n",
        "print(g.edges())"
      ],
      "metadata": {
        "colab": {
          "base_uri": "https://localhost:8080/"
        },
        "id": "fq7ihk6ckbMa",
        "outputId": "5a79afc5-77d0-4d10-87d4-a4c1df35405e"
      },
      "execution_count": 17,
      "outputs": [
        {
          "output_type": "stream",
          "name": "stdout",
          "text": [
            "[{'a'}, {'b', 'a'}, {'a', 'c'}, {'d', 'a'}, {'e', 'a'}, {'b'}, {'b', 'c'}, {'d', 'b'}, {'b', 'e'}, {'c'}, {'d', 'c'}, {'e', 'c'}, {'d'}, {'d', 'e'}, {'e'}]\n"
          ]
        }
      ]
    },
    {
      "cell_type": "code",
      "source": [
        "class graph:\n",
        "  def __init__(self,gdict=None):\n",
        "    if gdict is None:\n",
        "      g.dict = {}\n",
        "    self.gdict = gdict\n",
        "\n",
        "  def edges(self):\n",
        "    return self.findedges()\n",
        "\n",
        "# Find the distintct List of edges\n",
        "  def findedges(self):\n",
        "    edgename = []\n",
        "    for vrtx in self.gdict:\n",
        "      for nxtvrtx in self.gdict:\n",
        "        if {nxtvrtx, vrtx} not in edgename:\n",
        "          edgename.append({nxtvrtx, vrtx})\n",
        "    return edgename\n",
        "\n",
        "# Create the dictionary with graph elements\n",
        "graph_elements = {\n",
        "    'T': ['U', 'W'],\n",
        "    'U': ['V'],\n",
        "    'V': ['x'],\n",
        "    'W': ['x','Z'],\n",
        "    'X': ['s'],\n",
        "    'Z': ['W'],\n",
        "    'S': ['x']\n",
        "}\n",
        "\n",
        "g = graph(graph_elements)\n",
        "\n",
        "print(g.edges())"
      ],
      "metadata": {
        "colab": {
          "base_uri": "https://localhost:8080/"
        },
        "id": "Ue4HdiKfogQp",
        "outputId": "44928416-4f4b-401b-b356-52a2127a5925"
      },
      "execution_count": 18,
      "outputs": [
        {
          "output_type": "stream",
          "name": "stdout",
          "text": [
            "[{'T'}, {'U', 'T'}, {'V', 'T'}, {'T', 'W'}, {'X', 'T'}, {'T', 'Z'}, {'T', 'S'}, {'U'}, {'U', 'V'}, {'U', 'W'}, {'X', 'U'}, {'U', 'Z'}, {'U', 'S'}, {'V'}, {'V', 'W'}, {'X', 'V'}, {'V', 'Z'}, {'V', 'S'}, {'W'}, {'X', 'W'}, {'W', 'Z'}, {'W', 'S'}, {'X'}, {'X', 'Z'}, {'X', 'S'}, {'Z'}, {'Z', 'S'}, {'S'}]\n"
          ]
        }
      ]
    },
    {
      "cell_type": "code",
      "source": [
        "class graph:\n",
        "  def __init__(self,gdict=None):\n",
        "    if gdict is None:\n",
        "      g.dict = {}\n",
        "    self.gdict = gdict\n",
        "\n",
        "  def edges(self):\n",
        "    return self.findedges()\n",
        "\n",
        "# Find the distintct List of edges\n",
        "  def findedges(self):\n",
        "    edgename = []\n",
        "    for vrtx in self.gdict:\n",
        "      for nxtvrtx in self.gdict:\n",
        "        if {nxtvrtx, vrtx} not in edgename:\n",
        "          edgename.append({nxtvrtx, vrtx})\n",
        "    return edgename\n",
        "\n",
        "# Create the dictionary with graph elements\n",
        "graph_elements = {\n",
        "    'r':['o','m'],\n",
        "    'o':['p','m'],\n",
        "    'm':['n'],\n",
        "    'l':['p'],\n",
        "    'p':['n'],\n",
        "    'n':['p']\n",
        "}\n",
        "\n",
        "g = graph(graph_elements)\n",
        "\n",
        "print(g.edges())"
      ],
      "metadata": {
        "colab": {
          "base_uri": "https://localhost:8080/"
        },
        "id": "h11K0EQkopsQ",
        "outputId": "502586f3-ddad-4d44-dd95-3e4e52e9c5cc"
      },
      "execution_count": 19,
      "outputs": [
        {
          "output_type": "stream",
          "name": "stdout",
          "text": [
            "[{'r'}, {'o', 'r'}, {'m', 'r'}, {'l', 'r'}, {'p', 'r'}, {'r', 'n'}, {'o'}, {'m', 'o'}, {'l', 'o'}, {'p', 'o'}, {'o', 'n'}, {'m'}, {'m', 'l'}, {'m', 'p'}, {'m', 'n'}, {'l'}, {'l', 'p'}, {'l', 'n'}, {'p'}, {'p', 'n'}, {'n'}]\n"
          ]
        }
      ]
    },
    {
      "cell_type": "code",
      "source": [
        "class graph:\n",
        "  def __init__(self,gdict=None):\n",
        "    if gdict is None:\n",
        "      gdict = {}\n",
        "    self.gdict = gdict\n",
        "\n",
        "  def getVertices(self):\n",
        "    return list(self.gdict.keys())\n",
        "\n",
        "# add the vertex as a key\n",
        "  def addVertex(self, vrtx):\n",
        "    if vrtx not in self.gdict:\n",
        "      self.gdict[vrtx] = []\n",
        "\n",
        "# Create the dictionary with graph elements\n",
        "graph_elements = {\n",
        "    \"a\": [\"b\", \"c\"],\n",
        "    \"b\": [\"a\", \"d\"],\n",
        "    \"c\": [\"a\", \"d\"],\n",
        "    \"d\": [\"e\"],\n",
        "    \"e\": [\"d\"]\n",
        "}\n",
        "\n",
        "g = graph(graph_elements)\n",
        "g.addVertex(\"f\")\n",
        "print(g.getVertices())"
      ],
      "metadata": {
        "colab": {
          "base_uri": "https://localhost:8080/"
        },
        "id": "4WYPhotco0VJ",
        "outputId": "8b44d54a-1d31-42a8-a358-7ceb93dbf4c6"
      },
      "execution_count": 20,
      "outputs": [
        {
          "output_type": "stream",
          "name": "stdout",
          "text": [
            "['a', 'b', 'c', 'd', 'e', 'f']\n"
          ]
        }
      ]
    },
    {
      "cell_type": "code",
      "source": [
        "class graph:\n",
        "  def __init__(self,gdict=None):\n",
        "    if gdict is None:\n",
        "      gdict = {}\n",
        "    self.gdict = gdict\n",
        "\n",
        "  def getVertices(self):\n",
        "    return list(self.gdict.keys())\n",
        "\n",
        "# add the vertex as a key\n",
        "  def addVertex(self, vrtx):\n",
        "    if vrtx not in self.gdict:\n",
        "      self.gdict[vrtx] = []\n",
        "\n",
        "# Create the dictionary with graph elements\n",
        "graph_elements =  {\n",
        "    'T': ['U', 'W'],\n",
        "    'U': ['V'],\n",
        "    'V': ['x'],\n",
        "    'W': ['x','Z'],\n",
        "    'X': ['s'],\n",
        "    'Z': ['W'],\n",
        "    'S': ['x']\n",
        "}\n",
        "\n",
        "\n",
        "g = graph(graph_elements)\n",
        "g.addVertex(\"f\")\n",
        "print(g.getVertices())"
      ],
      "metadata": {
        "colab": {
          "base_uri": "https://localhost:8080/"
        },
        "id": "YUyQDCUWruPQ",
        "outputId": "41ae3583-fdc2-4254-c566-303908a9c922"
      },
      "execution_count": 21,
      "outputs": [
        {
          "output_type": "stream",
          "name": "stdout",
          "text": [
            "['T', 'U', 'V', 'W', 'X', 'Z', 'S', 'f']\n"
          ]
        }
      ]
    },
    {
      "cell_type": "code",
      "source": [
        "class graph:\n",
        "  def __init__(self,gdict=None):\n",
        "    if gdict is None:\n",
        "      gdict = {}\n",
        "    self.gdict = gdict\n",
        "\n",
        "  def getVertices(self):\n",
        "    return list(self.gdict.keys())\n",
        "\n",
        "# add the vertex as a key\n",
        "  def addVertex(self, vrtx):\n",
        "    if vrtx not in self.gdict:\n",
        "      self.gdict[vrtx] = []\n",
        "\n",
        "# Create the dictionary with graph elements\n",
        "graph_elements = {\n",
        "    'r':['o','m'],\n",
        "    'o':['p','m'],\n",
        "    'm':['n'],\n",
        "    'l':['p'],\n",
        "    'p':['n'],\n",
        "    'n':['p']\n",
        "}\n",
        "\n",
        "\n",
        "g = graph(graph_elements)\n",
        "g.addVertex(\"f\")\n",
        "print(g.getVertices())"
      ],
      "metadata": {
        "colab": {
          "base_uri": "https://localhost:8080/"
        },
        "id": "D5ddZyRJrx2H",
        "outputId": "1b98922d-6813-48d1-8396-fb1ad65419a3"
      },
      "execution_count": 22,
      "outputs": [
        {
          "output_type": "stream",
          "name": "stdout",
          "text": [
            "['r', 'o', 'm', 'l', 'p', 'n', 'f']\n"
          ]
        }
      ]
    },
    {
      "cell_type": "code",
      "source": [
        "class Graph:\n",
        "    def __init__(self, gdict=None):\n",
        "        if gdict is None:\n",
        "            gdict = {}\n",
        "        self.gdict = gdict\n",
        "\n",
        "    def edges(self):\n",
        "        return self.find_edges()\n",
        "\n",
        "    def add_edge(self, edge):\n",
        "        edge = set(edge)\n",
        "        vrtx1, vrtx2 = tuple(edge)\n",
        "        if vrtx1 in self.gdict:\n",
        "            self.gdict[vrtx1].append(vrtx2)\n",
        "        else:\n",
        "            self.gdict[vrtx1] = [vrtx2]\n",
        "\n",
        "    def find_edges(self):\n",
        "        edge_name = []\n",
        "        for vrtx in self.gdict:\n",
        "            for nxtvrtx in self.gdict[vrtx]:\n",
        "                if (nxtvrtx, vrtx) not in edge_name:\n",
        "                    edge_name.append((vrtx, nxtvrtx))\n",
        "        return edge_name\n",
        "\n",
        "# Create the dictionary with graph elements\n",
        "graph_elements = {\n",
        "    \"a\": [\"b\", \"c\"],\n",
        "    \"b\": [\"a\", \"d\"],\n",
        "    \"c\": [\"a\", \"d\"],\n",
        "    \"d\": [\"e\"],\n",
        "    \"e\": [\"d\"]\n",
        "}\n",
        "\n",
        "g = Graph(graph_elements)\n",
        "g.add_edge({'a', 'e'})\n",
        "g.add_edge({'a', 'c'})\n",
        "print(g.edges())\n"
      ],
      "metadata": {
        "colab": {
          "base_uri": "https://localhost:8080/"
        },
        "id": "czkO3INRurKW",
        "outputId": "46c19d81-3ba5-4bec-84e4-0b311e53e758"
      },
      "execution_count": 24,
      "outputs": [
        {
          "output_type": "stream",
          "name": "stdout",
          "text": [
            "[('a', 'b'), ('a', 'c'), ('b', 'd'), ('c', 'd'), ('d', 'e'), ('e', 'a')]\n"
          ]
        }
      ]
    },
    {
      "cell_type": "code",
      "source": [
        "class Graph:\n",
        "    def __init__(self, gdict=None):\n",
        "        if gdict is None:\n",
        "            gdict = {}\n",
        "        self.gdict = gdict\n",
        "\n",
        "    def edges(self):\n",
        "        return self.find_edges()\n",
        "\n",
        "    def add_edge(self, edge):\n",
        "        edge = set(edge)\n",
        "        vrtx1, vrtx2 = tuple(edge)\n",
        "        if vrtx1 in self.gdict:\n",
        "            self.gdict[vrtx1].append(vrtx2)\n",
        "        else:\n",
        "            self.gdict[vrtx1] = [vrtx2]\n",
        "\n",
        "    def find_edges(self):\n",
        "        edge_name = []\n",
        "        for vrtx in self.gdict:\n",
        "            for nxtvrtx in self.gdict[vrtx]:\n",
        "                if (nxtvrtx, vrtx) not in edge_name:\n",
        "                    edge_name.append((vrtx, nxtvrtx))\n",
        "        return edge_name\n",
        "\n",
        "# Create the dictionary with graph elements\n",
        "graph_elements = {\n",
        "    'T': ['U', 'W'],\n",
        "    'U': ['V'],\n",
        "    'V': ['x'],\n",
        "    'W': ['x','Z'],\n",
        "    'X': ['s'],\n",
        "    'Z': ['W'],\n",
        "    'S': ['x']\n",
        "}\n",
        "\n",
        "g = Graph(graph_elements)\n",
        "g.add_edge({'a', 'e'})\n",
        "g.add_edge({'a', 'c'})\n",
        "print(g.edges())\n"
      ],
      "metadata": {
        "colab": {
          "base_uri": "https://localhost:8080/"
        },
        "id": "K6TwQoFLv4kO",
        "outputId": "5297418c-fcbf-4e09-8b9c-04f018914ea7"
      },
      "execution_count": 27,
      "outputs": [
        {
          "output_type": "stream",
          "name": "stdout",
          "text": [
            "[('T', 'U'), ('T', 'W'), ('U', 'V'), ('V', 'x'), ('W', 'x'), ('W', 'Z'), ('X', 's'), ('S', 'x'), ('e', 'a'), ('c', 'a')]\n"
          ]
        }
      ]
    },
    {
      "cell_type": "code",
      "source": [
        "class Graph:\n",
        "    def __init__(self, gdict=None):\n",
        "        if gdict is None:\n",
        "            gdict = {}\n",
        "        self.gdict = gdict\n",
        "\n",
        "    def edges(self):\n",
        "        return self.find_edges()\n",
        "\n",
        "    def add_edge(self, edge):\n",
        "        edge = set(edge)\n",
        "        vrtx1, vrtx2 = tuple(edge)\n",
        "        if vrtx1 in self.gdict:\n",
        "            self.gdict[vrtx1].append(vrtx2)\n",
        "        else:\n",
        "            self.gdict[vrtx1] = [vrtx2]\n",
        "\n",
        "    def find_edges(self):\n",
        "        edge_name = []\n",
        "        for vrtx in self.gdict:\n",
        "            for nxtvrtx in self.gdict[vrtx]:\n",
        "                if (nxtvrtx, vrtx) not in edge_name:\n",
        "                    edge_name.append((vrtx, nxtvrtx))\n",
        "        return edge_name\n",
        "\n",
        "# Create the dictionary with graph elements\n",
        "graph_elements = {\n",
        "    'r':['o','m'],\n",
        "    'o':['p','m'],\n",
        "    'm':['n'],\n",
        "    'l':['p'],\n",
        "    'p':['n'],\n",
        "    'n':['p']\n",
        "}\n",
        "\n",
        "g = Graph(graph_elements)\n",
        "g.add_edge({'a', 'e'})\n",
        "g.add_edge({'a', 'c'})\n",
        "print(g.edges())"
      ],
      "metadata": {
        "colab": {
          "base_uri": "https://localhost:8080/"
        },
        "id": "cY_9ffrCwAmW",
        "outputId": "7d04f8e2-9cea-4b2c-974f-ccf4ebaf4777"
      },
      "execution_count": 26,
      "outputs": [
        {
          "output_type": "stream",
          "name": "stdout",
          "text": [
            "[('r', 'o'), ('r', 'm'), ('o', 'p'), ('o', 'm'), ('m', 'n'), ('l', 'p'), ('p', 'n'), ('e', 'a'), ('c', 'a')]\n"
          ]
        }
      ]
    }
  ]
}